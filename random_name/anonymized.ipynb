{
 "cells": [
  {
   "cell_type": "code",
   "execution_count": 1,
   "metadata": {},
   "outputs": [],
   "source": [
    "import random\n",
    "import string"
   ]
  },
  {
   "cell_type": "code",
   "execution_count": 2,
   "metadata": {},
   "outputs": [],
   "source": [
    "first_name_samples = '김이박최정강조윤장임'\n",
    "middle_name_samples = '민서예지도하주윤채현지준'\n",
    "last_name_samples = '준윤우원호후서연아은진태'"
   ]
  },
  {
   "cell_type": "code",
   "execution_count": 3,
   "metadata": {},
   "outputs": [],
   "source": [
    "def random_name():\n",
    "    name = ''\n",
    "    name += random.choice(first_name_samples)\n",
    "    name += random.choice(middle_name_samples)\n",
    "    name += random.choice(last_name_samples)\n",
    "    return name"
   ]
  },
  {
   "cell_type": "code",
   "execution_count": 6,
   "metadata": {},
   "outputs": [],
   "source": [
    "names = [random_name() for i in range(300)]"
   ]
  },
  {
   "cell_type": "code",
   "execution_count": 7,
   "metadata": {},
   "outputs": [
    {
     "data": {
      "text/plain": [
       "['윤지호',\n",
       " '정지호',\n",
       " '조지윤',\n",
       " '강예진',\n",
       " '최도연',\n",
       " '이서호',\n",
       " '강도서',\n",
       " '박채준',\n",
       " '이윤우',\n",
       " '윤민태',\n",
       " '김채서',\n",
       " '윤주태',\n",
       " '강지후',\n",
       " '정지진',\n",
       " '최현태',\n",
       " '이지연',\n",
       " '이준호',\n",
       " '임윤연',\n",
       " '강서태',\n",
       " '박하준',\n",
       " '임도준',\n",
       " '최주연',\n",
       " '최민윤',\n",
       " '김채서',\n",
       " '윤현윤',\n",
       " '강도준',\n",
       " '이현호',\n",
       " '임예윤',\n",
       " '장민우',\n",
       " '정현준',\n",
       " '임지후',\n",
       " '이지윤',\n",
       " '박주후',\n",
       " '장지진',\n",
       " '장도우',\n",
       " '강준연',\n",
       " '최현서',\n",
       " '윤현연',\n",
       " '임예서',\n",
       " '정현호',\n",
       " '이지진',\n",
       " '강윤진',\n",
       " '최채은',\n",
       " '강도서',\n",
       " '정예진',\n",
       " '박예태',\n",
       " '조채후',\n",
       " '박주서',\n",
       " '윤예원',\n",
       " '이예아',\n",
       " '임주은',\n",
       " '이하태',\n",
       " '강민진',\n",
       " '최도서',\n",
       " '이지준',\n",
       " '임서후',\n",
       " '정주호',\n",
       " '이지태',\n",
       " '박도연',\n",
       " '정준은',\n",
       " '윤지호',\n",
       " '정채호',\n",
       " '임채준',\n",
       " '강현연',\n",
       " '조지윤',\n",
       " '장하아',\n",
       " '강채연',\n",
       " '김준호',\n",
       " '정서호',\n",
       " '정지후',\n",
       " '최하후',\n",
       " '박도은',\n",
       " '강지태',\n",
       " '장서아',\n",
       " '강예후',\n",
       " '장도후',\n",
       " '장주윤',\n",
       " '강민진',\n",
       " '정도윤',\n",
       " '김지태',\n",
       " '임윤태',\n",
       " '조도원',\n",
       " '최하태',\n",
       " '김준아',\n",
       " '장서은',\n",
       " '강하우',\n",
       " '정민진',\n",
       " '장지준',\n",
       " '정주윤',\n",
       " '장예연',\n",
       " '조예태',\n",
       " '조예준',\n",
       " '박현아',\n",
       " '박지후',\n",
       " '최준후',\n",
       " '장서진',\n",
       " '임서아',\n",
       " '윤예호',\n",
       " '박윤태',\n",
       " '최하진',\n",
       " '박윤후',\n",
       " '최지은',\n",
       " '조지아',\n",
       " '정준태',\n",
       " '정예진',\n",
       " '윤주서',\n",
       " '정윤호',\n",
       " '임하진',\n",
       " '최준연',\n",
       " '장도호',\n",
       " '윤채아',\n",
       " '임지우',\n",
       " '최주원']"
      ]
     },
     "execution_count": 7,
     "metadata": {},
     "output_type": "execute_result"
    }
   ],
   "source": [
    "names = random.sample(names, 113)\n",
    "names"
   ]
  },
  {
   "cell_type": "code",
   "execution_count": null,
   "metadata": {},
   "outputs": [],
   "source": []
  }
 ],
 "metadata": {
  "kernelspec": {
   "display_name": "Python 3.9.12 ('base')",
   "language": "python",
   "name": "python3"
  },
  "language_info": {
   "codemirror_mode": {
    "name": "ipython",
    "version": 3
   },
   "file_extension": ".py",
   "mimetype": "text/x-python",
   "name": "python",
   "nbconvert_exporter": "python",
   "pygments_lexer": "ipython3",
   "version": "3.9.12"
  },
  "orig_nbformat": 4,
  "vscode": {
   "interpreter": {
    "hash": "610a6f344c2137faf927ea819c63f6cee33a2c04455044b28099f39fe9722347"
   }
  }
 },
 "nbformat": 4,
 "nbformat_minor": 2
}
